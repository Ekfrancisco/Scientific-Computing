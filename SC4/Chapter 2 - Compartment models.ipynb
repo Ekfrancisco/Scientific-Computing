{
 "cells": [
  {
   "cell_type": "markdown",
   "metadata": {},
   "source": [
    "# INF-495, v0.01, Claudio Torres, ctorres@inf.utfsm.cl. DI-UTFSM\n",
    "## Textbook: Computational Mathematical Modeling, An Integrated Approach Across Scales by Daniela Calvetti and Erkki Somersalo."
   ]
  },
  {
   "cell_type": "markdown",
   "metadata": {},
   "source": [
    "# Chapter 2"
   ]
  },
  {
   "cell_type": "code",
   "execution_count": null,
   "metadata": {},
   "outputs": [],
   "source": [
    "import numpy as np\n",
    "import scipy.sparse.linalg as sp\n",
    "import sympy as sym\n",
    "from scipy.linalg import toeplitz\n",
    "\n",
    "import ipywidgets as widgets\n",
    "from ipywidgets import IntSlider\n",
    "\n",
    "import matplotlib.pyplot as plt\n",
    "%matplotlib inline\n",
    "from matplotlib import cm\n",
    "from matplotlib.ticker import LinearLocator, FormatStrFormatter\n",
    "\n",
    "plt.style.use('ggplot')\n",
    "\n",
    "import matplotlib as mpl\n",
    "mpl.rcParams['font.size'] = 14\n",
    "mpl.rcParams['axes.labelsize'] = 20\n",
    "mpl.rcParams['xtick.labelsize'] = 14\n",
    "mpl.rcParams['ytick.labelsize'] = 14\n",
    "sym.init_printing()\n",
    "\n",
    "from scipy.integrate import odeint\n",
    "from ipywidgets import interact"
   ]
  },
  {
   "cell_type": "markdown",
   "metadata": {},
   "source": [
    "## 2.1 Simple compartment models"
   ]
  },
  {
   "cell_type": "markdown",
   "metadata": {},
   "source": [
    "### Example 1:"
   ]
  },
  {
   "cell_type": "code",
   "execution_count": null,
   "metadata": {},
   "outputs": [],
   "source": [
    "# Example 1, numerically.\n",
    "def f_example_1(t,y,c,k1,k2):\n",
    "    X = y[0]\n",
    "    Y = y[1]\n",
    "    \n",
    "    Xp = c(t)-k1*X\n",
    "    Yp = k1*X-k2*Y\n",
    "    \n",
    "    return np.array([Xp,Yp])\n",
    "\n",
    "# Initial condition\n",
    "y0 = np.array([500, 600])\n",
    "a  = 1200\n",
    "t1 = 12*60\n",
    "t2 = 19*60\n",
    "tau = 30\n",
    "c  = lambda t: a*(np.exp(-((np.mod(t,24*60)-t1)**2)/(2*tau**2)) \\\n",
    "                +np.exp(-((np.mod(t,24*60)-t2)**2)/(2*tau**2))) \\\n",
    "                /(np.sqrt(2*np.pi*tau**2))\n",
    "T_digest = 80\n",
    "T_metabolic = 240\n",
    "k1 = 1/T_digest\n",
    "k2 = 1/T_metabolic\n",
    "\n",
    "T = 2*24*60\n",
    "\n",
    "# time where we want your solution\n",
    "t = np.linspace(0, T, 100)\n",
    "sol = odeint(f_example_1, y0, t, args=(c,k1,k2), tfirst=True)\n",
    "\n",
    "plt.figure()\n",
    "plt.plot(t, sol[:,0], 'b', label='X(t): Energy in gastric channel')\n",
    "plt.plot(t, sol[:,1], 'r', label='Y(t): Energy in blood')\n",
    "plt.legend(loc='right', bbox_to_anchor=(2, 0.5))\n",
    "plt.xlabel('t')\n",
    "plt.ylabel('kcal')\n",
    "plt.grid(True)\n",
    "plt.show()"
   ]
  },
  {
   "cell_type": "markdown",
   "metadata": {},
   "source": [
    "## 2.1.1.- Simple population models"
   ]
  },
  {
   "cell_type": "markdown",
   "metadata": {},
   "source": [
    "### Adding competition for resources: Logistic growth"
   ]
  },
  {
   "cell_type": "code",
   "execution_count": null,
   "metadata": {},
   "outputs": [],
   "source": [
    "# Example 1, numerically.\n",
    "def f_spm_logistic_growth(t,y,r,K):\n",
    "    X = y\n",
    "    Xp = r*(1-X/K)*X\n",
    "    return Xp\n",
    "\n",
    "# Initial condition\n",
    "# y0 = np.array([500, 600])\n",
    "r  = 1\n",
    "K = 1000\n",
    "\n",
    "T = 10\n",
    "\n",
    "# time where we want your solution\n",
    "t = np.linspace(0, T, 100)\n",
    "\n",
    "plt.figure()\n",
    "for y0 in np.linspace(0,2000,20):\n",
    "    sol = odeint(f_spm_logistic_growth, y0, t, args=(r,K), tfirst=True)\n",
    "    plt.plot(t, sol, 'b')\n",
    "plt.xlabel('t')\n",
    "plt.ylabel('population size')\n",
    "plt.grid(True)\n",
    "plt.show()"
   ]
  },
  {
   "cell_type": "markdown",
   "metadata": {},
   "source": [
    "### Logistic growth with harvesting"
   ]
  },
  {
   "cell_type": "code",
   "execution_count": null,
   "metadata": {},
   "outputs": [],
   "source": [
    "def f_logistic_growth_harvesting(t,y,r,K,h):\n",
    "    X = y\n",
    "    Xp = r*(1-X/K)*X-h\n",
    "    return Xp\n",
    "\n",
    "# Initial condition\n",
    "# y0 = np.array([500, 600])\n",
    "r  = 1\n",
    "K = 1000\n",
    "h = 100\n",
    "\n",
    "T = 8\n",
    "\n",
    "Xplus = K/2*(1+np.sqrt(1-4*h/(K*r)))\n",
    "Xminus = K/2*(1-np.sqrt(1-4*h/(K*r)))\n",
    "\n",
    "# time where we want your solution\n",
    "t = np.linspace(0, T, 100)\n",
    "\n",
    "plt.figure()\n",
    "N=10\n",
    "y0s = np.zeros(N+1)\n",
    "y0s[1:] = np.linspace(200,1200,N)\n",
    "y0s[0] = Xminus-0.5\n",
    "for y0 in y0s:\n",
    "    sol = odeint(f_logistic_growth_harvesting, y0, t, args=(r,K,h), tfirst=True)\n",
    "    plt.plot(t, sol, 'b')\n",
    "\n",
    "plt.plot(t, sol*0+Xplus, 'r')\n",
    "plt.plot(t, sol*0+Xminus, 'r')\n",
    "plt.plot(t, sol*0, 'r--')\n",
    "plt.xlabel('t')\n",
    "plt.ylabel('population size')\n",
    "plt.grid(True)\n",
    "plt.show()"
   ]
  },
  {
   "cell_type": "code",
   "execution_count": null,
   "metadata": {},
   "outputs": [],
   "source": [
    "plt.figure()\n",
    "f = lambda X: -(r/K)*X**2+r*X-h\n",
    "Xs = np.linspace(0,Xplus+200,100)\n",
    "plt.plot(Xs, f(Xs), 'b')\n",
    "plt.plot(Xs, f(Xs)*0, 'r')\n",
    "plt.axvline(x=Xminus,color='k',label='$X_-$')\n",
    "plt.axvline(x=Xplus,color='g',label='$X_+$')\n",
    "plt.xlabel('X')\n",
    "plt.legend(loc='right', bbox_to_anchor=(1.3, 0.5))\n",
    "plt.grid(True)\n",
    "plt.show()"
   ]
  },
  {
   "cell_type": "markdown",
   "metadata": {},
   "source": [
    "### Models with delay"
   ]
  },
  {
   "cell_type": "markdown",
   "metadata": {},
   "source": [
    "### Example 2"
   ]
  },
  {
   "cell_type": "markdown",
   "metadata": {},
   "source": [
    "Differential equations with delay are not currently supported by Scipy, fortunately there are the following options:\n",
    "\n",
    "- For Python: pydelay, http://pydelay.sourceforge.net\n",
    "- For R: \"PBSddesolve: Solver for delay differential equations\", https://github.com/pbs-software/pbs-ddesolve \n",
    "- For Python using PBSddesolve: https://github.com/hensing/PyDDE\n",
    "- (*) For Python: https://github.com/Zulko/ddeint"
   ]
  },
  {
   "cell_type": "code",
   "execution_count": null,
   "metadata": {},
   "outputs": [],
   "source": [
    "# See: https://github.com/Zulko/ddeint\n",
    "from ddeint import ddeint\n",
    "\n",
    "r = 2         # Growth rate\n",
    "K = 100       # Carrying capacity\n",
    "tau = 1       # Lag of crowding\n",
    "X_hist = 50   # Constant history\n",
    "T = 30        # Time simulation\n",
    "\n",
    "def values_before_zero(t):\n",
    "    return X_hist\n",
    "\n",
    "def f_delay1(Y, t):\n",
    "    return r*(1-Y(t - tau)/K)*Y(t)\n",
    "\n",
    "t = np.linspace(0, T, 1000)\n",
    "sol = ddeint(f_delay1, values_before_zero, t)\n",
    "\n",
    "fig, ax = plt.subplots(1, figsize=(4, 4))\n",
    "ax.plot(t, sol)\n",
    "plt.show()"
   ]
  },
  {
   "cell_type": "code",
   "execution_count": null,
   "metadata": {},
   "outputs": [],
   "source": [
    "r = 1.4       # Growth rate\n",
    "K = 150       # Carrying capacity\n",
    "tau1 = 1      # Lag of birth\n",
    "tau2 = 5      # Lag of crowding\n",
    "X_hist = 100  # Constant history\n",
    "T = 200       # Time simulation\n",
    "beta = 0.5    # Rate of death\n",
    "\n",
    "def values_before_zero(t):\n",
    "    return X_hist\n",
    "\n",
    "def f_delay2(Y, t):\n",
    "    return r*Y(t-tau1)-beta*Y(t)-(r/K)*Y(t - tau2)*Y(t)\n",
    "\n",
    "t = np.linspace(0, T, 2000)\n",
    "sol = ddeint(f_delay2, values_before_zero, t)\n",
    "\n",
    "fig, ax = plt.subplots(1, figsize=(4, 4))\n",
    "ax.plot(t, sol)\n",
    "plt.show()"
   ]
  },
  {
   "cell_type": "markdown",
   "metadata": {},
   "source": [
    "## 2.2.- Interacting population models"
   ]
  },
  {
   "cell_type": "markdown",
   "metadata": {},
   "source": [
    "## 2.2.1.- Predator-prey models"
   ]
  },
  {
   "cell_type": "markdown",
   "metadata": {},
   "source": [
    "### Example 3"
   ]
  },
  {
   "cell_type": "code",
   "execution_count": null,
   "metadata": {},
   "outputs": [],
   "source": [
    "# Example 1, numerically.\n",
    "def f_example_3(t,y,eta,gamma,eps):\n",
    "    X = y[0]\n",
    "    Y = y[1]\n",
    "    \n",
    "    Xp = eta*X*(1-Y/(eta/gamma))\n",
    "    Yp = -eps*Y*(1-X/(eps/delta))\n",
    "    \n",
    "    return np.array([Xp,Yp])\n",
    "\n",
    "# Initial condition\n",
    "\n",
    "eta = 8-1/2\n",
    "eps = 1/5\n",
    "gamma = 1/100\n",
    "delta = eps*gamma/(20*eta)\n",
    "\n",
    "X_eq = eps/delta\n",
    "Y_eq = eta/gamma\n",
    "\n",
    "y0 = np.array([0.9*X_eq, 1.2*Y_eq])\n",
    "\n",
    "T = 15\n",
    "\n",
    "# time where we want your solution\n",
    "t = np.linspace(0, T, 100)\n",
    "sol = odeint(f_example_3, y0, t, args=(eta,gamma,eps), tfirst=True)\n",
    "\n",
    "X_output = sol[:,0]\n",
    "Y_output = sol[:,1]\n",
    "\n",
    "fig, ax1 = plt.subplots()\n",
    "color = 'tab:blue'\n",
    "ax1.set_xlabel('time [years]')\n",
    "ax1.set_ylabel('Prey population', color=color)\n",
    "ax1.plot(t, X_output, color=color)\n",
    "ax1.tick_params(axis='y', labelcolor=color)\n",
    "ax2 = ax1.twinx()  # instantiate a second axes that shares the same x-axis\n",
    "color = 'tab:green'\n",
    "ax2.set_ylabel('Predator popolation', color=color)  # we already handled the x-label with ax1\n",
    "ax2.plot(t, Y_output, color=color)\n",
    "ax2.tick_params(axis='y', labelcolor=color)\n",
    "fig.tight_layout()  # otherwise the right y-label is slightly clipped\n",
    "plt.show()"
   ]
  },
  {
   "cell_type": "code",
   "execution_count": null,
   "metadata": {},
   "outputs": [],
   "source": [
    "plt.figure()\n",
    "plt.plot(X_output,Y_output,'k')\n",
    "plt.xlabel('prey')\n",
    "plt.ylabel('predator')\n",
    "plt.plot(X_eq,Y_eq,'b.',markersize=20)\n",
    "plt.plot(y0[0],y0[1],'r.',markersize=20)\n",
    "plt.text(X_eq,Y_eq,'  equilibrium state')\n",
    "plt.text(y0[0],y0[1],'  initial state')\n",
    "plt.show()"
   ]
  },
  {
   "cell_type": "code",
   "execution_count": null,
   "metadata": {},
   "outputs": [],
   "source": [
    "fig = plt.figure()\n",
    "ax = fig.gca(projection='3d')\n",
    "ax.plot(X_output, Y_output, t,'b')\n",
    "ax.view_init(elev=40,azim=230)\n",
    "plt.xlabel('prey')\n",
    "plt.ylabel('predator')\n",
    "ax.set_zlabel('t')\n",
    "plt.show()"
   ]
  },
  {
   "cell_type": "markdown",
   "metadata": {},
   "source": [
    "## 2.2.2.- SIR models in epidemiology"
   ]
  },
  {
   "cell_type": "code",
   "execution_count": null,
   "metadata": {},
   "outputs": [],
   "source": [
    "# Example 1, numerically.\n",
    "def f_SIR(t,y,alpha,beta):\n",
    "    S = y[0]\n",
    "    I = y[1]\n",
    "    R = y[2]\n",
    "    \n",
    "    Sp = -alpha*I*S\n",
    "    Ip = alpha*I*S-beta*I\n",
    "    Rp = beta*I\n",
    "    \n",
    "    return np.array([Sp,Ip,Rp])\n",
    "\n",
    "# Initial condition\n",
    "N = 1e6\n",
    "alpha = 1e-6\n",
    "beta = 1/3\n",
    "\n",
    "S0 = 9e5\n",
    "I0 = 1e5\n",
    "y0 = np.array([S0, I0, N-S0-I0])\n",
    "\n",
    "T = 20\n",
    "\n",
    "# time where we want your solution\n",
    "t = np.linspace(0, T, 100)\n",
    "sol = odeint(f_SIR, y0, t, args=(alpha,beta), tfirst=True)\n",
    "\n",
    "plt.figure()\n",
    "plt.plot(t, sol[:,0], 'b', label='S(t)')\n",
    "plt.plot(t, sol[:,1], 'r', label='I(t)')\n",
    "plt.plot(t, sol[:,2], 'g', label='R(t)')\n",
    "plt.legend(loc='right', bbox_to_anchor=(2, 0.5))\n",
    "plt.xlabel('t')\n",
    "plt.ylabel('number of individuals')\n",
    "plt.grid(True)\n",
    "plt.show()"
   ]
  },
  {
   "cell_type": "markdown",
   "metadata": {},
   "source": [
    "## 2.2.3.- Endemic diseases"
   ]
  },
  {
   "cell_type": "code",
   "execution_count": null,
   "metadata": {},
   "outputs": [],
   "source": [
    "# Example 1, numerically.\n",
    "def f_SIR_endemic(t,y,alpha,beta,sigma,N):\n",
    "    S = y[0]\n",
    "    I = y[1]\n",
    "    R = y[2]\n",
    "    \n",
    "    Sp = -alpha*I*S+sigma*N-sigma*S\n",
    "    Ip = alpha*I*S-beta*I-sigma*I\n",
    "    Rp = beta*I-sigma*R\n",
    "    \n",
    "    return np.array([Sp,Ip,Rp])\n",
    "\n",
    "# Initial condition\n",
    "N = 1e6\n",
    "alpha = 1e-6\n",
    "beta = 1/3\n",
    "sigma = 1/50\n",
    "\n",
    "S0 = 9e5\n",
    "I0 = 1e5\n",
    "y0 = np.array([S0, I0, N-S0-I0])\n",
    "\n",
    "T = 150\n",
    "\n",
    "# time where we want your solution\n",
    "t = np.linspace(0, T, 100)\n",
    "sol = odeint(f_SIR_endemic, y0, t, args=(alpha,beta,sigma,N), tfirst=True)\n",
    "\n",
    "plt.figure()\n",
    "plt.plot(t, sol[:,0], 'b', label='S(t)')\n",
    "plt.plot(t, sol[:,1], 'r', label='I(t)')\n",
    "plt.plot(t, sol[:,2], 'g', label='R(t)')\n",
    "plt.legend(loc='right', bbox_to_anchor=(2, 0.5))\n",
    "plt.xlabel('t')\n",
    "plt.ylabel('number of individuals')\n",
    "plt.grid(True)\n",
    "plt.show()"
   ]
  },
  {
   "cell_type": "markdown",
   "metadata": {},
   "source": [
    "# Project 1\n",
    "\n",
    "https://github.com/projectmesa/mesa\n",
    "\n",
    "https://towardsdatascience.com/introduction-to-mesa-agent-based-modeling-in-python-bcb0596e1c9a"
   ]
  },
  {
   "cell_type": "code",
   "execution_count": null,
   "metadata": {},
   "outputs": [],
   "source": []
  }
 ],
 "metadata": {
  "kernelspec": {
   "display_name": "Python 3",
   "language": "python",
   "name": "python3"
  },
  "language_info": {
   "codemirror_mode": {
    "name": "ipython",
    "version": 3
   },
   "file_extension": ".py",
   "mimetype": "text/x-python",
   "name": "python",
   "nbconvert_exporter": "python",
   "pygments_lexer": "ipython3",
   "version": "3.7.4"
  }
 },
 "nbformat": 4,
 "nbformat_minor": 2
}
