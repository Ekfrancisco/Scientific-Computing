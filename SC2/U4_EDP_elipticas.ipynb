{
 "cells": [
  {
   "cell_type": "markdown",
   "metadata": {},
   "source": [
    "<center>\n",
    "    <h1> ILI286 - Computación Científica II  </h1>\n",
    "    <h2> Ecuaciones Diferenciales Parciales: Elípticas </h2>\n",
    "    <h2> <a href=\"#acknowledgements\"> [S]cientific [C]omputing [T]eam </a> </h2>\n",
    "    <h2> Version: 1.14</h2>\n",
    "</center>"
   ]
  },
  {
   "cell_type": "markdown",
   "metadata": {},
   "source": [
    "# Tabla de Contenidos\n",
    "* [Introducción](#intro)\n",
    "* [Marco Teórico](#teo)\n",
    "* [Ecuación de Poisson](#poisson)\n",
    "* [Ecuación de Helmotz](#helmotz)\n",
    "* [Acknowledgements](#acknowledgements)"
   ]
  },
  {
   "cell_type": "code",
   "execution_count": 1,
   "metadata": {},
   "outputs": [],
   "source": [
    "import numpy as np\n",
    "from mpl_toolkits.mplot3d import axes3d\n",
    "from matplotlib import pyplot as plt\n",
    "from ipywidgets import interact\n",
    "from ipywidgets import IntSlider\n",
    "import sympy as sym\n",
    "import matplotlib as mpl\n",
    "mpl.rcParams['font.size'] = 14\n",
    "mpl.rcParams['axes.labelsize'] = 20\n",
    "mpl.rcParams['xtick.labelsize'] = 14\n",
    "mpl.rcParams['ytick.labelsize'] = 14\n",
    "sym.init_printing()\n",
    "%matplotlib inline\n",
    "\n",
    "def plot(x,y,w,elev=40,azim=230):\n",
    "    # Plot the solution\n",
    "    X,Y = np.meshgrid(y,x)\n",
    "    W = w.reshape(X.shape)\n",
    "    fig = plt.figure(figsize=(10,10))\n",
    "    ax = fig.add_subplot(111, projection='3d')\n",
    "    ax.plot_wireframe(X, Y, W)\n",
    "    #ax.plot_surface(X, Y, W, alpha=0.25)\n",
    "    plt.xlabel(\"y\")\n",
    "    plt.ylabel(\"x\")\n",
    "    #ax.set_zlim(0.,1.)\n",
    "    #plt.savefig(\"sol%dx%d.png\"%(Nx+1,Ny+1))\n",
    "    ax.view_init(elev,azim)\n",
    "    plt.show()"
   ]
  },
  {
   "cell_type": "markdown",
   "metadata": {},
   "source": [
    "<div id='intro' />\n",
    "\n",
    "# Introducción\n",
    "\n",
    "En el siguiente notebook se estudia la resolución numérica de **ecuaciones diferenciales parciales elípticas**. La resolución de estas tiene gran importancia, ya que aparecen repetidas veces en diferentes modelos físicos relacionados con los potenciales de energía. Por ejemplo, el potencial de carga eléctrica de acuerdo a las ecuaciones de _Maxwell_ puede ser escrito como:\n",
    "$$\n",
    "\\Delta u = -\\frac{\\rho}{\\epsilon},\n",
    "$$\n",
    "con $u$ el potencial eléctrico, $\\rho$ la densidad de carga, y $\\epsilon$ el la permitividad eléctrica.\n",
    "\n",
    "El método numérico que estudiaremos se basa en **diferencias finitas**, del mismo modo en que se hizo para resolver EDOs anteriormente, esto es, las derivadas son aproximadas por gradientes calculados numéricamente en base a los valores vecinos de cada punto. Sin embargo ahora *las derivadas son parciales!*, pero como veremos esto no es gran problema."
   ]
  },
  {
   "cell_type": "markdown",
   "metadata": {},
   "source": [
    "<div id='teo' />\n",
    "\n",
    "# Marco Teórico\n",
    "\n",
    "\n",
    "Si consideramos una función $u(x,y)$ dos veces diferenciable, entonces se define el operador *Laplaciano* como:\n",
    "\n",
    "$$\n",
    "\\Delta u(x,y) = u_{xx}(x,y) + u_{yy}(x,y),\n",
    "$$\n",
    "\n",
    "si se considera además una función $f(x,y)$, entonces es posible definir:\n",
    "\n",
    "$$\n",
    "\\Delta u(x,y) = u_{xx}(x,y) + u_{yy}(x,y) = f(x,y), \\ \\ \\  \\text{con } \\ x,y \\in \\Omega \\ \\text{ y condiciones de borde en } \\ \\partial \\Omega\n",
    "$$\n",
    "\n",
    "como la **ecuación de Poisson**, la cual es una de las más conocidas dentro de la clase _ Elípticas _. El caso particular donde $f(x,y) = 0$ se conoce como **ecuación de Laplace**.\n",
    "\n",
    "\n",
    "### Formulación numérica\n",
    "\n",
    "Sea la ecuación de Laplace $\\Delta u(x,y) = 0$ sobre un dominio rectangular $[x_a, x_b] \\times [y_a, y_b]$, con condiciones de borde de Dirichlet:\n",
    "\n",
    "\\begin{align}\n",
    "    u(x,y_a) &= g_1(x) \\\\\n",
    "    u(x,y_b) &= g_2(x) \\\\\n",
    "    u(x_a,y) &= g_3(y) \\\\\n",
    "    u(x_b,y) &= g_4(y) .\n",
    "\\end{align}\n",
    "\n",
    "Para resolver este problema por diferencias finitas, es necesario discretizar el dominio $\\Omega$ sobre el que se define la función. Tal discretización se puede ver gráficamente como se muestra a continuación:"
   ]
  },
  {
   "cell_type": "code",
   "execution_count": 2,
   "metadata": {},
   "outputs": [
    {
     "data": {
      "image/png": "[encoded data removed]",
      "text/plain": [
       "<Figure size 576x576 with 1 Axes>"
      ]
     },
     "metadata": {
      "needs_background": "light"
     },
     "output_type": "display_data"
    }
   ],
   "source": [
    "x = np.linspace(0., 1., 10)\n",
    "y = np.linspace(0., 1., 10)\n",
    "xgrid, ygrid = np.meshgrid(x, y, sparse=False)\n",
    "plt.figure(figsize=(8,8))\n",
    "plt.scatter(xgrid.ravel(), ygrid.ravel())\n",
    "plt.plot((0,1),(0,0), 'g--' ,lw=2)\n",
    "plt.plot((1,1),(0,1), 'g--' ,lw=2)\n",
    "plt.plot((1,0),(1,1), 'g--' ,lw=2)\n",
    "plt.plot((0,0),(1,0), 'g--' ,lw=2)\n",
    "plt.title('Esquema de discretizacion uniforme')\n",
    "plt.xlim(-0.1,1.1)\n",
    "plt.ylim(-0.1,1.1)\n",
    "plt.axis('equal')\n",
    "plt.show()"
   ]
  },
  {
   "cell_type": "markdown",
   "metadata": {},
   "source": [
    "en donde cada punto interior (*azul*), representa un punto donde queremos conocer el valor de la función $u(x,y)$. Consideraremos además que  $h_x$ y $h_y$ el *space step* de la malla.  \n",
    "\n",
    "Dado que las derivadas del Laplaciano son *parciales*, se puede utilizar diferencias finitas sin ninguna modificación. Para aproximar cada segunda derivada se utiliza *diferencias centradas* (**centered difference formula**), que posee un error de orden cuadrático en $h$.\n",
    "\n",
    "$$\n",
    "\\underbrace{ \\frac{u(x-h_x,y) - 2 u(x,y) + u(x+h_x, y)}{h_x^2} + O(h_x^2) }_{= u_{xx}(x,y)} + \\underbrace{ \\frac{u(x,y-h_y) - 2 u(x,y) + u(x, y+h_y)}{h_y^2} + O(h_y^2) }_{= u_{yy}(x,y)} = f(x,y)\n",
    "$$\n",
    "\n",
    "Ocupando la notación $u(x_i,y_j) = w_{ij}$ para el punto $(x_i, y_j)$ de la malla, la ecuación de discretización es finalmente:\n",
    "\n",
    "$$\n",
    "\\frac{w_{i-1,j} - 2 w_{i,j} + w_{i+1,j}}{h_x^2} + \\frac{w_{i,j-1} - 2 w_{i,j} + w_{i,j+1}}{h_y^2} \\approx f(x_i, y_j),\n",
    "$$\n",
    "\n",
    "válida para todos los puntos $(x_i, y_j) \\in \\Omega - \\partial \\Omega$ (puntos interiores). Hay una aspecto muy importante a notar: **Esta ecuación es lineal en los $\\mathbf{w_{i,j}}$!**. El procedimiento es entonces como sigue:\n",
    "\n",
    "* Evaluar la ecuación discretizada para cada punto interior $(x_i, y_j)$, utilizando la información de los valores en la frontera.\n",
    "* Construir un sistema lineal $A \\mathbf{w} = b$, en donde $\\mathbf{w}$ es el vector con todos los $w_{i,j}$. (Para su construcción revisar el libro guía: *Numerical Analysis, Timothy Sauer*).\n",
    "* Resolver el sistema anterior para $\\mathbf{w}$, utilizando cualquier `solver` de sistemas lineales (LU, PALU, Jacobi, Gauss-Seidel, etc)."
   ]
  },
  {
   "cell_type": "markdown",
   "metadata": {},
   "source": [
    "# Ecuación de Poisson\n",
    "\n",
    "Buscaremos resolver la ecuación de Poisson con condición de frontera de Dirichlet:\n",
    "\n",
    "\\begin{align*}\n",
    "\\Delta u(x,y) &= f(x,y) \\ , \\ (x, y) \\in \\Omega=[0,1]\\times[0,1] \\\\\n",
    "u(x,0) &= b(x)\\\\\n",
    "u(x,1) &= t(x)\\\\\n",
    "u(0, y) &= l(y)\\\\\n",
    "u(1,y) &= r(y)\n",
    "\\end{align*}\n",
    "\n",
    "A continuación se definen tres problemas a resolver."
   ]
  },
  {
   "cell_type": "code",
   "execution_count": 3,
   "metadata": {},
   "outputs": [],
   "source": [
    "# Problema 1\n",
    "xmin, xmax = -1, 1.\n",
    "ymin, ymax = -1, 1.\n",
    "f  = lambda x,y : x*y\n",
    "bottom = lambda x : 0# np.sin(np.pi*x)\n",
    "top = lambda x : 0 #np.sin(np.pi*x)\n",
    "left = lambda y : 0\n",
    "right = lambda y: 0\n",
    "P1 = {\"f\":f, \"b\":bottom, \"t\":top, \"l\":left, \"r\":right, \n",
    "      \"xmin\":xmin, \"xmax\":xmax, \"ymin\":ymin, \"ymax\":ymax}\n",
    "\n",
    "# Problema 2\n",
    "xmin, xmax = 0., 1.\n",
    "ymin, ymax = 0., 1.\n",
    "f  = lambda x,y : x\n",
    "bottom = lambda x : np.sin(np.pi*x)\n",
    "top = lambda x : np.sin(np.pi*x)\n",
    "left = lambda y : 0\n",
    "right = lambda y: 0\n",
    "P2 = {\"f\":f, \"b\":bottom, \"t\":top, \"l\":left, \"r\":right, \n",
    "      \"xmin\":xmin, \"xmax\":xmax, \"ymin\":ymin, \"ymax\":ymax}\n",
    "\n",
    "# Problema 3\n",
    "xmin, xmax = -1, 1.\n",
    "ymin, ymax = -1, 1.\n",
    "f  = lambda x,y : 0\n",
    "bottom = lambda x : np.sin(np.pi*x)\n",
    "top = lambda x : -np.sin(np.pi*x)\n",
    "left = lambda y : 0\n",
    "right = lambda y: 0\n",
    "P3 = {\"f\":f, \"b\":bottom, \"t\":top, \"l\":left, \"r\":right, \n",
    "      \"xmin\":xmin, \"xmax\":xmax, \"ymin\":ymin, \"ymax\":ymax}\n",
    "\n",
    "# Problema 4\n",
    "xmin, xmax = 0, 1.\n",
    "ymin, ymax = 0, 1.\n",
    "f  = lambda x,y : x*np.exp(y)\n",
    "bottom = lambda x : x\n",
    "top = lambda x : x*np.exp(1)\n",
    "left = lambda y : 0*y\n",
    "right = lambda y: np.exp(y)\n",
    "P4 = {\"f\":f, \"b\":bottom, \"t\":top, \"l\":left, \"r\":right, \n",
    "      \"xmin\":xmin, \"xmax\":xmax, \"ymin\":ymin, \"ymax\":ymax}\n",
    "\n",
    "P_Poisson=[('P1', P1), ('P2', P2),('P3', P3),('P4', P4)]"
   ]
  },
  {
   "cell_type": "markdown",
   "metadata": {},
   "source": [
    "La función `solve_laplace()` es la encargada de construir el sistema lineal correspondiente para al problema `P` a resolver.\n",
    "\n",
    "**Q:** _¿Podría usted explicar esta construcción en base a lo visto en la formulación teórica?_."
   ]
  },
  {
   "cell_type": "code",
   "execution_count": 4,
   "metadata": {},
   "outputs": [],
   "source": [
    "def solve_laplace(P, Nx=30, Ny=30,flag_plot=False,elev=40,azim=230):\n",
    "    # Discretize x and y\n",
    "    x = np.linspace(P[\"xmin\"], P[\"xmax\"], Nx+1)\n",
    "    y = np.linspace(P[\"ymin\"], P[\"ymax\"], Ny+1)\n",
    "\n",
    "    # Define the discretization parameters\n",
    "    dx = x[1]-x[0]\n",
    "    dy = y[1]-y[0]\n",
    "    \n",
    "    # Create the matrix and the right hand size vector\n",
    "    A = np.zeros([(Nx+1)*(Ny+1), (Nx+1)*(Ny+1)])\n",
    "    b = np.zeros([(Nx+1)*(Ny+1), 1])\n",
    "        \n",
    "    # Define global indexing\n",
    "    def index(i, j, nCols=(Ny+1)):\n",
    "        return j + i*nCols\n",
    "    \n",
    "    # Fill up the matrix and right hand side vector\n",
    "    for i in range(Nx+1):\n",
    "        for j in range(Ny+1):\n",
    "            k = index(i,j)\n",
    "            if j==0: # y=ymin, bottom\n",
    "                A[k,k] =  1.\n",
    "                b[k] = P[\"b\"](x[i])\n",
    "            elif i==Nx: # x=xmax, right\n",
    "                A[k,k] =  1.\n",
    "                b[k] = P[\"r\"](y[j])\n",
    "            elif j==Ny: # y=ymax, top\n",
    "                A[k,k] =  1.\n",
    "                b[k] = P[\"t\"](x[i])\n",
    "            elif i==0:  # x=xmin, left\n",
    "                A[k,k] =  1.\n",
    "                b[k] = P[\"l\"](y[j])\n",
    "            else:\n",
    "                A[k, k] = -2./dx**2 - 2./dy**2\n",
    "                A[k,index(i+1,j)] =  1./dx**2\n",
    "                A[k,index(i-1,j)] =  1./dx**2\n",
    "                A[k,index(i,j-1)] =  1./dy**2\n",
    "                A[k,index(i,j+1)] =  1./dy**2\n",
    "                b[k] = P[\"f\"](x[i], y[j])\n",
    "\n",
    "    # Solve the linear system\n",
    "    w = np.linalg.solve(A, b)\n",
    "    \n",
    "    if flag_plot:\n",
    "        plot(x,y,w,elev,azim)        \n",
    "        return\n",
    "        \n",
    "    return x, y, w"
   ]
  },
  {
   "cell_type": "code",
   "execution_count": 5,
   "metadata": {
    "scrolled": false
   },
   "outputs": [
    {
     "data": {
      "application/vnd.jupyter.widget-view+json": {
       "model_id": "a9ac7c07af5c41739d1b9f058c8a7ba2",
       "version_major": 2,
       "version_minor": 0
      },
      "text/plain": [
       "interactive(children=(Dropdown(description='P', options=(('P1', {'f': <function <lambda> at 0x121eec0e0>, 'b':…"
      ]
     },
     "metadata": {},
     "output_type": "display_data"
    },
    {
     "data": {
      "text/plain": [
       "<function __main__.solve_laplace(P, Nx=30, Ny=30, flag_plot=False, elev=40, azim=230)>"
      ]
     },
     "execution_count": 5,
     "metadata": {},
     "output_type": "execute_result"
    }
   ],
   "source": [
    "elev_widget = IntSlider(min=0, max=180, step=10, value=40)\n",
    "azim_widget = IntSlider(min=0, max=360, step=10, value=230)\n",
    "\n",
    "interact(solve_laplace,P=P_Poisson,Nx=(5,50,5),Ny=(5,50,5),flag_plot=[True],elev=elev_widget,azim=azim_widget)"
   ]
  },
  {
   "cell_type": "markdown",
   "metadata": {},
   "source": [
    "# Ecuación de Helmholtz\n",
    "\n",
    "Buscaremos resolver la ecuación de Helmholtz con condición de frontera de Dirichlet:\n",
    "\n",
    "\\begin{align*}\n",
    "\\Delta u(x,y) -\\lambda \\, u(x,y)&= f(x,y) \\ , \\ (x, y) \\in \\Omega=[0,1]\\times[0,1] \\\\\n",
    "u(x,0) &= b(x)\\\\\n",
    "u(x,1) &= t(x)\\\\\n",
    "u(0, y) &= l(y)\\\\\n",
    "u(1,y) &= r(y)\n",
    "\\end{align*}\n",
    "\n",
    "A continuación se definen tres problemas a resolver."
   ]
  },
  {
   "cell_type": "code",
   "execution_count": 6,
   "metadata": {},
   "outputs": [],
   "source": [
    "# Problem 1\n",
    "Lambda = 0.1\n",
    "xmin, xmax = 0., 1.\n",
    "ymin, ymax = 0., 1.\n",
    "f  = lambda x,y : 0\n",
    "bottom = lambda x : 0\n",
    "top = lambda x : 0\n",
    "left = lambda y : 1\n",
    "right = lambda y: 1\n",
    "P1 = {\"Lambda\":Lambda, \"f\":f, \"b\":bottom, \"t\":top, \"l\":left, \"r\":right, \n",
    "      \"xmin\":xmin, \"xmax\":xmax, \"ymin\":ymin, \"ymax\":ymax}\n",
    "\n",
    "# Problem 2\n",
    "Lambda = 2.0\n",
    "xmin, xmax = 0., 1.\n",
    "ymin, ymax = 0., 1.\n",
    "f  = lambda x,y : 0\n",
    "bottom = lambda x : 0\n",
    "top = lambda x : 0\n",
    "left = lambda y : 1\n",
    "right = lambda y: 1\n",
    "P2 = {\"Lambda\":Lambda, \"f\":f, \"b\":bottom, \"t\":top, \"l\":left, \"r\":right, \n",
    "      \"xmin\":xmin, \"xmax\":xmax, \"ymin\":ymin, \"ymax\":ymax}\n",
    "\n",
    "# Problem 3\n",
    "Lambda = 0.0\n",
    "xmin, xmax = -1, 1.\n",
    "ymin, ymax = -1, 1.\n",
    "f  = lambda x,y : 0\n",
    "bottom = lambda x : 0\n",
    "top = lambda x : 0\n",
    "left = lambda y : np.sin(np.pi*y)\n",
    "right = lambda y: -np.sin(np.pi*y)\n",
    "P3 = {\"Lambda\":Lambda, \"f\":f, \"b\":bottom, \"t\":top, \"l\":left, \"r\":right, \n",
    "      \"xmin\":xmin, \"xmax\":xmax, \"ymin\":ymin, \"ymax\":ymax}\n",
    "\n",
    "P_Helmholtz=[('P1', P1), ('P2', P2),('P3', P3)]"
   ]
  },
  {
   "cell_type": "markdown",
   "metadata": {},
   "source": [
    "La función `solve_herlmotz()` es la encargada de construir el sistema lineal correspondiente para al problema `P` a resolver.\n",
    "\n",
    "**Q:** _¿Podría usted explicar esta construcción en base a lo visto en la formulación teórica?_."
   ]
  },
  {
   "cell_type": "code",
   "execution_count": 7,
   "metadata": {},
   "outputs": [],
   "source": [
    "def solve_helmholtz(P, Nx=30, Ny=30,flag_plot=False,elev=40,azim=230):\n",
    "    # Discretize x and y\n",
    "    x = np.linspace(P[\"xmin\"], P[\"xmax\"], Nx+1)\n",
    "    y = np.linspace(P[\"ymin\"], P[\"ymax\"], Ny+1)\n",
    "    L = P[\"Lambda\"]\n",
    "\n",
    "    # Define the discretization parameters\n",
    "    dx = x[1]-x[0]\n",
    "    dy = y[1]-y[0]\n",
    "    \n",
    "    # Create the matrix and the right hand size vector\n",
    "    A = np.zeros([(Nx+1)*(Ny+1), (Nx+1)*(Ny+1)])\n",
    "    b = np.zeros([(Nx+1)*(Ny+1), 1])\n",
    "        \n",
    "    # Define global indexing\n",
    "    def index(i, j, nCols=(Ny+1)):\n",
    "        return j + i*nCols\n",
    "    \n",
    "    # Fill up the matrix and right hand side vector\n",
    "    for i in range(Nx+1):\n",
    "        for j in range(Ny+1):\n",
    "            k = index(i,j)\n",
    "            if j==0: # y=ymin, bottom\n",
    "                A[k,k] =  -1.5/dy\n",
    "                A[k,index(i,j+1)] = 2.0/dy\n",
    "                A[k,index(i,j+2)] =-0.5/dy\n",
    "                b[k] = P[\"b\"](x[i])\n",
    "            elif i==Nx: # x=xmax, right\n",
    "                A[k,k] =  1.\n",
    "                b[k] = P[\"r\"](y[j])\n",
    "            elif j==Ny: # y=ymax, top\n",
    "                A[k,k] =  1.5/dy \n",
    "                A[k,index(i,j-1)] =  -2.0/dy\n",
    "                A[k,index(i,j-2)] =  +0.5/dy\n",
    "                b[k] = P[\"t\"](x[i])\n",
    "            elif i==0:  # x=xmin, left\n",
    "                A[k,k] =  1.\n",
    "                b[k] = P[\"l\"](y[j])\n",
    "            else:\n",
    "                A[k, k] = -2./dx**2 - 2./dy**2 - L\n",
    "                A[k,index(i+1,j)] =  1./dx**2\n",
    "                A[k,index(i-1,j)] =  1./dx**2\n",
    "                A[k,index(i,j-1)] =  1./dy**2\n",
    "                A[k,index(i,j+1)] =  1./dy**2\n",
    "                b[k] = P[\"f\"](x[i], y[j])\n",
    "\n",
    "    # Solve the linear system\n",
    "    w = np.linalg.solve(A, b)\n",
    "    \n",
    "    if flag_plot:\n",
    "        plot(x,y,w,elev,azim)        \n",
    "        return\n",
    "    \n",
    "    return x, y, w"
   ]
  },
  {
   "cell_type": "code",
   "execution_count": 8,
   "metadata": {},
   "outputs": [
    {
     "data": {
      "application/vnd.jupyter.widget-view+json": {
       "model_id": "10aa7c98838b46308ec64567454f4862",
       "version_major": 2,
       "version_minor": 0
      },
      "text/plain": [
       "interactive(children=(Dropdown(description='P', options=(('P1', {'Lambda': 0.1, 'f': <function <lambda> at 0x1…"
      ]
     },
     "metadata": {},
     "output_type": "display_data"
    },
    {
     "data": {
      "text/plain": [
       "<function __main__.solve_helmholtz(P, Nx=30, Ny=30, flag_plot=False, elev=40, azim=230)>"
      ]
     },
     "execution_count": 8,
     "metadata": {},
     "output_type": "execute_result"
    }
   ],
   "source": [
    "elev_widget = IntSlider(min=0, max=180, step=10, value=40)\n",
    "azim_widget = IntSlider(min=0, max=360, step=10, value=230)\n",
    "\n",
    "interact(solve_helmholtz,P=P_Helmholtz,Nx=(5,50,5),Ny=(5,50,5),flag_plot=[True],elev=elev_widget,azim=azim_widget)"
   ]
  },
  {
   "cell_type": "markdown",
   "metadata": {},
   "source": [
    "<div id='acknowledgements' />\n",
    "\n",
    "# Acknowledgements\n",
    "\n",
    "* _Material creado por profesor Claudio Torres_ (`ctorres@inf.utfsm.cl`) _y ayudantes: Alvaro Salinas y Martín Villanueva. DI UTFSM. Abril 2016._\n",
    "\n",
    "***\n",
    "### DISCLAIMER ###\n",
    "\n",
    "El presente notebook ha sido creado para el curso **ILI286 - Computación Científica 2**, del [Departamento de Informática](http://www.inf.utfsm.cl/), [Universidad Técnica Federico Santa María](http://www.utfsm.cl/). \n",
    "\n",
    "El material ha sido creado por Claudio Torres <ctorres@inf.utfsm.cl> y ayudantes, y es distribuido sin restricciones. En caso de encontrar un error, por favor no dude en contactarnos.\n",
    "\n",
    "[Update 2016] V1.1 (Martín) Integrados los notebook de Poisson y Helmholtz en un sólo notebook. Se agregó contexto y marco teórico. \n",
    "\n",
    "[Update 2019] (C. Torres) Fixing titles. Adding ipython widget and adding notation. Fixing typos.\n",
    "***"
   ]
  },
  {
   "cell_type": "code",
   "execution_count": null,
   "metadata": {},
   "outputs": [],
   "source": []
  }
 ],
 "metadata": {
  "anaconda-cloud": {},
  "kernelspec": {
   "display_name": "Python 3",
   "language": "python",
   "name": "python3"
  },
  "language_info": {
   "codemirror_mode": {
    "name": "ipython",
    "version": 3
   },
   "file_extension": ".py",
   "mimetype": "text/x-python",
   "name": "python",
   "nbconvert_exporter": "python",
   "pygments_lexer": "ipython3",
   "version": "3.7.4"
  }
 },
 "nbformat": 4,
 "nbformat_minor": 1
}
